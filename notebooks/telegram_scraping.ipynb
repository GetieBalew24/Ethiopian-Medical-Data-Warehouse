{
 "cells": [
  {
   "cell_type": "markdown",
   "metadata": {},
   "source": [
    "## Telegram data scraping\n",
    "### Import Required Modules"
   ]
  },
  {
   "cell_type": "code",
   "execution_count": 1,
   "metadata": {},
   "outputs": [],
   "source": [
    "# Import required modules\n",
    "import os\n",
    "import sys\n",
    "import asyncio\n",
    "import logging\n",
    "import pandas as pd\n",
    "from dotenv import load_dotenv\n",
    "from telethon import TelegramClient\n",
    "\n",
    "import nest_asyncio\n",
    "\n",
    "current_dir = os.getcwd()\n",
    "# Append the parent directory to sys.path\n",
    "parent_dir = os.path.dirname(current_dir)\n",
    "sys.path.append(parent_dir)\n",
    "\n",
    "# ignore warrnings\n",
    "import warnings\n",
    "warnings.filterwarnings(\"ignore\")"
   ]
  },
  {
   "cell_type": "markdown",
   "metadata": {},
   "source": [
    "#### Import Custom Scripts"
   ]
  },
  {
   "cell_type": "code",
   "execution_count": 2,
   "metadata": {},
   "outputs": [],
   "source": [
    "# Importing custom scripts for image downloading and Telegram data scraping\n",
    "from scripts.photo_scrapper import download_images\n",
    "from scripts.telegram_data_scraper import scrape_messages"
   ]
  },
  {
   "cell_type": "code",
   "execution_count": 3,
   "metadata": {},
   "outputs": [],
   "source": [
    "# Apply nest_asyncio to handle event loop issues in Jupyter\n",
    "nest_asyncio.apply()"
   ]
  },
  {
   "cell_type": "code",
   "execution_count": 4,
   "metadata": {},
   "outputs": [
    {
     "data": {
      "text/plain": [
       "True"
      ]
     },
     "execution_count": 4,
     "metadata": {},
     "output_type": "execute_result"
    }
   ],
   "source": [
    "# Load environment variables from .env file\n",
    "load_dotenv()"
   ]
  },
  {
   "cell_type": "markdown",
   "metadata": {},
   "source": [
    "#### Fetch API Credentials from .env"
   ]
  },
  {
   "cell_type": "code",
   "execution_count": 5,
   "metadata": {},
   "outputs": [],
   "source": [
    "# Fetch API credentials from the .env file using environment variables\n",
    "api_id = os.getenv('API_ID')\n",
    "api_hash = os.getenv('API_HASH')\n",
    "phone_number = os.getenv('PHONE_NUMBER')"
   ]
  },
  {
   "cell_type": "markdown",
   "metadata": {},
   "source": [
    "#### Configure Logging"
   ]
  },
  {
   "cell_type": "code",
   "execution_count": 6,
   "metadata": {},
   "outputs": [],
   "source": [
    "# Set up logging to log messages to both a file and the console\n",
    "logging.basicConfig(\n",
    "    level=logging.INFO,\n",
    "    format='%(asctime)s - %(levelname)s - %(message)s',\n",
    "    handlers=[\n",
    "        logging.FileHandler(\"../logs/scraping.log\"),  # Save logs to a file\n",
    "        logging.StreamHandler()  # Output logs to console\n",
    "    ]\n",
    ")"
   ]
  },
  {
   "cell_type": "code",
   "execution_count": 7,
   "metadata": {},
   "outputs": [],
   "source": [
    "# Initialize the Telegram client using environment variables\n",
    "client = TelegramClient('session_name', api_id, api_hash)"
   ]
  },
  {
   "cell_type": "markdown",
   "metadata": {},
   "source": [
    "#### Function to Scrape Messages from Channels"
   ]
  },
  {
   "cell_type": "code",
   "execution_count": 8,
   "metadata": {},
   "outputs": [],
   "source": [
    "async def scrape_channels(channel_urls):\n",
    "    \"\"\"\n",
    "    Scrapes images and messages from a list of Telegram channels.\n",
    "    Args:\n",
    "        channel_urls (list): List of Telegram channel URLs.\n",
    "    Returns:\n",
    "        final_df (DataFrame): Combined DataFrame containing messages from all channels.\n",
    "    \"\"\"\n",
    "    all_messages = []\n",
    "\n",
    "    for channel_url in channel_urls:\n",
    "        # Scrape and download images\n",
    "        # await scrape_images(channel_url)\n",
    "        \n",
    "        # Scrape messages and store in a DataFrame\n",
    "        df = await scrape_messages(channel_url, client)\n",
    "        all_messages.append(df)\n",
    "\n",
    "    # Combine all DataFrames\n",
    "    final_df = pd.concat(all_messages, ignore_index=True)\n",
    "    return final_df"
   ]
  },
  {
   "cell_type": "code",
   "execution_count": 9,
   "metadata": {},
   "outputs": [],
   "source": [
    "# Function to scrape images from a channel\n",
    "async def scrape_images(channel_url, client):\n",
    "    \"\"\"\n",
    "    Scrape images from a Telegram channel and download them.\n",
    "\n",
    "    Args:\n",
    "        channel_url: The URL of the Telegram channel.\n",
    "        client: The Telegram client used to interact with the Telegram API.\n",
    "    \"\"\"\n",
    "    try:\n",
    "        logging.info(f\"Scraping images from channel: {channel_url}\")\n",
    "        \n",
    "        # Get the channel entity\n",
    "        channel = await client.get_entity(channel_url)\n",
    "        channel_name = channel.username or channel.title.replace(' ', '_')\n",
    "\n",
    "        # Scrape messages and download images\n",
    "        async for message in client.iter_messages(channel):\n",
    "            await download_images(message, channel_name, client)\n",
    "        \n",
    "        logging.info(f\"Finished scraping images from channel: {channel_url}\")\n",
    "    except Exception as e:\n",
    "        logging.error(f\"Error scraping images from channel {channel_url}: {e}\")"
   ]
  },
  {
   "cell_type": "code",
   "execution_count": 10,
   "metadata": {},
   "outputs": [],
   "source": [
    "async def main():\n",
    "    \"\"\"\n",
    "    Asynchronous function to run the scraping process for multiple Telegram channels.\n",
    "    \n",
    "    Scrapes messages from the specified channels, saves the data to a CSV file, and returns the DataFrame.\n",
    "\n",
    "    Returns:\n",
    "        df (DataFrame): DataFrame containing scraped messages from all specified Telegram channels.\n",
    "    \"\"\"\n",
    "    channel_urls = ['t.me/DoctorsET', 't.me/lobelia4cosmetics', 't.me/CheMed123', 't.me/EAHCI', 'yetenaweg']  \n",
    "    try:\n",
    "        # Start the Telegram client\n",
    "        await client.start(phone=phone_number)\n",
    "        \n",
    "        # Scrape channels and get the final DataFrame\n",
    "        df = await scrape_channels(channel_urls)\n",
    "        \n",
    "        # Save the DataFrame to a CSV file\n",
    "        df.to_csv('../data/scraped_telegram_messages.csv', index=False)\n",
    "        \n",
    "        logging.info(\"Data successfully saved to '../data/scraped_telegram_messages.csv'\")\n",
    "        return df\n",
    "    except Exception as e:\n",
    "        logging.error(f\"Error in main process: {e}\")"
   ]
  },
  {
   "cell_type": "markdown",
   "metadata": {},
   "source": [
    "#### Execute the Main Function"
   ]
  },
  {
   "cell_type": "code",
   "execution_count": 11,
   "metadata": {},
   "outputs": [
    {
     "name": "stderr",
     "output_type": "stream",
     "text": [
      "2025-01-30 18:26:41,032 - INFO - Connecting to 149.154.167.51:443/TcpFull...\n",
      "2025-01-30 18:26:43,013 - INFO - Connection to 149.154.167.51:443/TcpFull complete!\n",
      "2025-01-30 18:26:43,943 - INFO - Phone migrated to 4\n",
      "2025-01-30 18:26:44,335 - INFO - Reconnecting to new data center 4\n",
      "2025-01-30 18:26:44,754 - INFO - Disconnecting from 149.154.167.51:443/TcpFull...\n",
      "2025-01-30 18:26:44,755 - INFO - Disconnection from 149.154.167.51:443/TcpFull complete!\n",
      "2025-01-30 18:26:44,756 - INFO - Connecting to 149.154.167.91:443/TcpFull...\n",
      "2025-01-30 18:26:46,494 - INFO - Connection to 149.154.167.91:443/TcpFull complete!\n",
      "2025-01-30 18:27:37,896 - INFO - Scraping messages from channel: t.me/DoctorsET\n"
     ]
    },
    {
     "name": "stdout",
     "output_type": "stream",
     "text": [
      "Signed in successfully as Gech Nati; remember to not break the ToS or you will risk an account ban!\n"
     ]
    },
    {
     "name": "stderr",
     "output_type": "stream",
     "text": [
      "2025-01-30 18:27:46,402 - INFO - Finished scraping messages from channel: t.me/DoctorsET\n",
      "2025-01-30 18:27:46,404 - INFO - Scraping messages from channel: t.me/lobelia4cosmetics\n",
      "2025-01-30 18:28:09,773 - INFO - Finished scraping messages from channel: t.me/lobelia4cosmetics\n",
      "2025-01-30 18:28:09,775 - INFO - Scraping messages from channel: t.me/CheMed123\n",
      "2025-01-30 18:28:10,375 - INFO - Finished scraping messages from channel: t.me/CheMed123\n",
      "2025-01-30 18:28:10,376 - INFO - Scraping messages from channel: t.me/EAHCI\n",
      "2025-01-30 18:28:33,200 - INFO - Finished scraping messages from channel: t.me/EAHCI\n",
      "2025-01-30 18:28:33,202 - INFO - Scraping messages from channel: yetenaweg\n",
      "2025-01-30 18:28:44,568 - INFO - Finished scraping messages from channel: yetenaweg\n",
      "2025-01-30 18:28:44,679 - INFO - Data successfully saved to '../data/scraped_telegram_messages.csv'\n"
     ]
    },
    {
     "data": {
      "text/html": [
       "<div>\n",
       "<style scoped>\n",
       "    .dataframe tbody tr th:only-of-type {\n",
       "        vertical-align: middle;\n",
       "    }\n",
       "\n",
       "    .dataframe tbody tr th {\n",
       "        vertical-align: top;\n",
       "    }\n",
       "\n",
       "    .dataframe thead th {\n",
       "        text-align: right;\n",
       "    }\n",
       "</style>\n",
       "<table border=\"1\" class=\"dataframe\">\n",
       "  <thead>\n",
       "    <tr style=\"text-align: right;\">\n",
       "      <th></th>\n",
       "      <th>message_id</th>\n",
       "      <th>text</th>\n",
       "      <th>sender</th>\n",
       "      <th>channel</th>\n",
       "      <th>date</th>\n",
       "    </tr>\n",
       "  </thead>\n",
       "  <tbody>\n",
       "    <tr>\n",
       "      <th>0</th>\n",
       "      <td>DoctorsET_864</td>\n",
       "      <td>https://youtu.be/5DBoEm-8kmA?si=LDLuEecNfULJVD...</td>\n",
       "      <td>-1001102021238</td>\n",
       "      <td>DoctorsET</td>\n",
       "      <td>2023-12-18 17:04:02+00:00</td>\n",
       "    </tr>\n",
       "    <tr>\n",
       "      <th>1</th>\n",
       "      <td>DoctorsET_863</td>\n",
       "      <td>ዶክተርስ ኢትዮጵያ በ አዲስ አቀራረብ በ ቴሌቪዥን ፕሮግራሙን ለመጀመር ከ...</td>\n",
       "      <td>-1001102021238</td>\n",
       "      <td>DoctorsET</td>\n",
       "      <td>2023-11-03 16:14:39+00:00</td>\n",
       "    </tr>\n",
       "    <tr>\n",
       "      <th>2</th>\n",
       "      <td>DoctorsET_862</td>\n",
       "      <td>ሞት በስኳር \\n\\nለልጆቻችን የምናሲዘው ምሳቃ ሳናቀው እድሚያቸውን ይቀን...</td>\n",
       "      <td>-1001102021238</td>\n",
       "      <td>DoctorsET</td>\n",
       "      <td>2023-10-02 16:37:39+00:00</td>\n",
       "    </tr>\n",
       "    <tr>\n",
       "      <th>3</th>\n",
       "      <td>DoctorsET_861</td>\n",
       "      <td>ከ HIV የተፈወሰ ሰው አጋጥሟችሁ ያቃል ? ፈውስ እና ህክምና ?\\n\\nሙ...</td>\n",
       "      <td>-1001102021238</td>\n",
       "      <td>DoctorsET</td>\n",
       "      <td>2023-09-16 07:54:32+00:00</td>\n",
       "    </tr>\n",
       "    <tr>\n",
       "      <th>4</th>\n",
       "      <td>DoctorsET_860</td>\n",
       "      <td>በቅርብ ጊዜ በሃገራችን ላይ እየተስተዋለ ያለ የተመሳሳይ ፆታ ( Homos...</td>\n",
       "      <td>-1001102021238</td>\n",
       "      <td>DoctorsET</td>\n",
       "      <td>2023-09-01 16:16:15+00:00</td>\n",
       "    </tr>\n",
       "    <tr>\n",
       "      <th>...</th>\n",
       "      <td>...</td>\n",
       "      <td>...</td>\n",
       "      <td>...</td>\n",
       "      <td>...</td>\n",
       "      <td>...</td>\n",
       "    </tr>\n",
       "    <tr>\n",
       "      <th>6475</th>\n",
       "      <td>yetenaweg_5</td>\n",
       "      <td>ይህ አዲሱ የኮሮና ቫይረስ በማይክሮስኮፕ ስር ሲታይ ያለው ምስል ነው። ኮ...</td>\n",
       "      <td>-1001447066276</td>\n",
       "      <td>yetenaweg</td>\n",
       "      <td>2020-02-17 20:58:59+00:00</td>\n",
       "    </tr>\n",
       "    <tr>\n",
       "      <th>6476</th>\n",
       "      <td>yetenaweg_4</td>\n",
       "      <td>አዲሱ የኮሮና ቫይረስ (በአዲስ የሳይንስ ስሙ COVID-19) ፣\\nከየት ...</td>\n",
       "      <td>-1001447066276</td>\n",
       "      <td>yetenaweg</td>\n",
       "      <td>2020-02-17 20:55:46+00:00</td>\n",
       "    </tr>\n",
       "    <tr>\n",
       "      <th>6477</th>\n",
       "      <td>yetenaweg_3</td>\n",
       "      <td></td>\n",
       "      <td>-1001447066276</td>\n",
       "      <td>yetenaweg</td>\n",
       "      <td>2020-02-17 20:55:05+00:00</td>\n",
       "    </tr>\n",
       "    <tr>\n",
       "      <th>6478</th>\n",
       "      <td>yetenaweg_2</td>\n",
       "      <td></td>\n",
       "      <td>-1001447066276</td>\n",
       "      <td>yetenaweg</td>\n",
       "      <td>2020-01-17 01:35:09+00:00</td>\n",
       "    </tr>\n",
       "    <tr>\n",
       "      <th>6479</th>\n",
       "      <td>yetenaweg_1</td>\n",
       "      <td></td>\n",
       "      <td>-1001447066276</td>\n",
       "      <td>yetenaweg</td>\n",
       "      <td>2020-01-17 01:28:32+00:00</td>\n",
       "    </tr>\n",
       "  </tbody>\n",
       "</table>\n",
       "<p>6480 rows × 5 columns</p>\n",
       "</div>"
      ],
      "text/plain": [
       "         message_id                                               text  \\\n",
       "0     DoctorsET_864  https://youtu.be/5DBoEm-8kmA?si=LDLuEecNfULJVD...   \n",
       "1     DoctorsET_863  ዶክተርስ ኢትዮጵያ በ አዲስ አቀራረብ በ ቴሌቪዥን ፕሮግራሙን ለመጀመር ከ...   \n",
       "2     DoctorsET_862  ሞት በስኳር \\n\\nለልጆቻችን የምናሲዘው ምሳቃ ሳናቀው እድሚያቸውን ይቀን...   \n",
       "3     DoctorsET_861  ከ HIV የተፈወሰ ሰው አጋጥሟችሁ ያቃል ? ፈውስ እና ህክምና ?\\n\\nሙ...   \n",
       "4     DoctorsET_860  በቅርብ ጊዜ በሃገራችን ላይ እየተስተዋለ ያለ የተመሳሳይ ፆታ ( Homos...   \n",
       "...             ...                                                ...   \n",
       "6475    yetenaweg_5  ይህ አዲሱ የኮሮና ቫይረስ በማይክሮስኮፕ ስር ሲታይ ያለው ምስል ነው። ኮ...   \n",
       "6476    yetenaweg_4  አዲሱ የኮሮና ቫይረስ (በአዲስ የሳይንስ ስሙ COVID-19) ፣\\nከየት ...   \n",
       "6477    yetenaweg_3                                                      \n",
       "6478    yetenaweg_2                                                      \n",
       "6479    yetenaweg_1                                                      \n",
       "\n",
       "             sender    channel                      date  \n",
       "0    -1001102021238  DoctorsET 2023-12-18 17:04:02+00:00  \n",
       "1    -1001102021238  DoctorsET 2023-11-03 16:14:39+00:00  \n",
       "2    -1001102021238  DoctorsET 2023-10-02 16:37:39+00:00  \n",
       "3    -1001102021238  DoctorsET 2023-09-16 07:54:32+00:00  \n",
       "4    -1001102021238  DoctorsET 2023-09-01 16:16:15+00:00  \n",
       "...             ...        ...                       ...  \n",
       "6475 -1001447066276  yetenaweg 2020-02-17 20:58:59+00:00  \n",
       "6476 -1001447066276  yetenaweg 2020-02-17 20:55:46+00:00  \n",
       "6477 -1001447066276  yetenaweg 2020-02-17 20:55:05+00:00  \n",
       "6478 -1001447066276  yetenaweg 2020-01-17 01:35:09+00:00  \n",
       "6479 -1001447066276  yetenaweg 2020-01-17 01:28:32+00:00  \n",
       "\n",
       "[6480 rows x 5 columns]"
      ]
     },
     "execution_count": 11,
     "metadata": {},
     "output_type": "execute_result"
    },
    {
     "name": "stderr",
     "output_type": "stream",
     "text": [
      "2025-01-30 18:35:30,764 - INFO - Got difference for account updates\n"
     ]
    }
   ],
   "source": [
    "# Run the main function\n",
    "await main()"
   ]
  }
 ],
 "metadata": {
  "kernelspec": {
   "display_name": "venv",
   "language": "python",
   "name": "python3"
  },
  "language_info": {
   "codemirror_mode": {
    "name": "ipython",
    "version": 3
   },
   "file_extension": ".py",
   "mimetype": "text/x-python",
   "name": "python",
   "nbconvert_exporter": "python",
   "pygments_lexer": "ipython3",
   "version": "3.12.3"
  }
 },
 "nbformat": 4,
 "nbformat_minor": 2
}
